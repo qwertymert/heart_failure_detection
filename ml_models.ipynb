{
 "cells": [
  {
   "cell_type": "code",
   "execution_count": 1,
   "metadata": {
    "collapsed": true,
    "pycharm": {
     "name": "#%%\n"
    }
   },
   "outputs": [],
   "source": [
    "from sklearn.tree import DecisionTreeClassifier\n",
    "from sklearn.svm import SVC\n",
    "from sklearn.naive_bayes import GaussianNB\n",
    "from sklearn.ensemble import RandomForestClassifier\n",
    "from sklearn.preprocessing import MinMaxScaler, StandardScaler\n",
    "from sklearn.model_selection import train_test_split, GridSearchCV\n",
    "import pandas as pd"
   ]
  },
  {
   "cell_type": "code",
   "execution_count": 2,
   "outputs": [],
   "source": [
    "df = pd.read_csv(\"heart_failure_clinical_records_dataset.csv\")\n",
    "df = df.sample(frac=1, random_state=42).reset_index(drop=True)"
   ],
   "metadata": {
    "collapsed": false,
    "pycharm": {
     "name": "#%%\n"
    }
   }
  },
  {
   "cell_type": "code",
   "execution_count": 3,
   "outputs": [],
   "source": [
    "X = df.iloc[:, :-1]\n",
    "y = df.iloc[:, -1]\n",
    "\n",
    "lst1 = list()\n",
    "for col in X:\n",
    "    if len(X[col].unique()) > 2:\n",
    "        lst1.append(col)\n",
    "\n",
    "scaler = StandardScaler()\n",
    "X[lst1] = scaler.fit_transform(X[lst1])"
   ],
   "metadata": {
    "collapsed": false,
    "pycharm": {
     "name": "#%%\n"
    }
   }
  },
  {
   "cell_type": "code",
   "execution_count": 4,
   "outputs": [],
   "source": [
    "X_train, X_test, y_train, y_test = train_test_split(X, y, random_state=1)"
   ],
   "metadata": {
    "collapsed": false,
    "pycharm": {
     "name": "#%%\n"
    }
   }
  },
  {
   "cell_type": "code",
   "execution_count": 5,
   "outputs": [],
   "source": [
    "models = {\"svm\": {\"model\": SVC(),\n",
    "                    \"params\": {\n",
    "                            \"C\": range(1, 11),\n",
    "                            \"kernel\": [\"linear\", \"poly\", \"rbf\",],\n",
    "                            \"gamma\": [\"scale\", \"auto\"]\n",
    "                            }\n",
    "                    },\n",
    "          \"tree\":{\"model\": DecisionTreeClassifier(),\n",
    "                  \"params\": {\n",
    "                      \"criterion\": [\"gini\", \"entropy\"],\n",
    "                      \"splitter\": [\"best\", \"random\"],\n",
    "                      \"max_depth\": [None, 1, 3, 5],\n",
    "                            },\n",
    "                    },\n",
    "          \"nb\":{\"model\": GaussianNB(),\n",
    "                \"params\": {},\n",
    "                    },\n",
    "          \"rf\":{\"model\": RandomForestClassifier(),\n",
    "                \"params\": {\n",
    "                    \"n_estimators\": [1, 3, 5, 10, 20, 50, 100],\n",
    "                    \"criterion\": [\"gini\", \"entropy\"],\n",
    "                    \"max_depth\": [None, 1, 3, 5],\n",
    "                    },\n",
    "                }\n",
    "          }\n",
    "\n",
    "scores = []\n",
    "for m, p in models.items():\n",
    "    clf = GridSearchCV(p[\"model\"], p[\"params\"], cv=5)\n",
    "    clf.fit(X, y)\n",
    "    scores.append({\"model\" : m,\n",
    "                   \"best_score\" : clf.best_score_,\n",
    "                   \"best_params\" : clf.best_params_})\n",
    "\n",
    "df = pd.DataFrame(scores, columns=[\"model\", \"best_score\", \"best_params\"])"
   ],
   "metadata": {
    "collapsed": false,
    "pycharm": {
     "name": "#%%\n"
    }
   }
  },
  {
   "cell_type": "code",
   "execution_count": 6,
   "outputs": [
    {
     "data": {
      "text/plain": "  model  best_score                                        best_params\n0   svm    0.825876     {'C': 1, 'gamma': 'scale', 'kernel': 'linear'}\n1  tree    0.839548  {'criterion': 'gini', 'max_depth': 1, 'splitte...\n2    nb    0.759040                                                 {}\n3    rf    0.852881  {'criterion': 'entropy', 'max_depth': 3, 'n_es...",
      "text/html": "<div>\n<style scoped>\n    .dataframe tbody tr th:only-of-type {\n        vertical-align: middle;\n    }\n\n    .dataframe tbody tr th {\n        vertical-align: top;\n    }\n\n    .dataframe thead th {\n        text-align: right;\n    }\n</style>\n<table border=\"1\" class=\"dataframe\">\n  <thead>\n    <tr style=\"text-align: right;\">\n      <th></th>\n      <th>model</th>\n      <th>best_score</th>\n      <th>best_params</th>\n    </tr>\n  </thead>\n  <tbody>\n    <tr>\n      <th>0</th>\n      <td>svm</td>\n      <td>0.825876</td>\n      <td>{'C': 1, 'gamma': 'scale', 'kernel': 'linear'}</td>\n    </tr>\n    <tr>\n      <th>1</th>\n      <td>tree</td>\n      <td>0.839548</td>\n      <td>{'criterion': 'gini', 'max_depth': 1, 'splitte...</td>\n    </tr>\n    <tr>\n      <th>2</th>\n      <td>nb</td>\n      <td>0.759040</td>\n      <td>{}</td>\n    </tr>\n    <tr>\n      <th>3</th>\n      <td>rf</td>\n      <td>0.852881</td>\n      <td>{'criterion': 'entropy', 'max_depth': 3, 'n_es...</td>\n    </tr>\n  </tbody>\n</table>\n</div>"
     },
     "execution_count": 6,
     "metadata": {},
     "output_type": "execute_result"
    }
   ],
   "source": [
    "df\n"
   ],
   "metadata": {
    "collapsed": false,
    "pycharm": {
     "name": "#%%\n"
    }
   }
  }
 ],
 "metadata": {
  "kernelspec": {
   "display_name": "Python 3",
   "language": "python",
   "name": "python3"
  },
  "language_info": {
   "codemirror_mode": {
    "name": "ipython",
    "version": 2
   },
   "file_extension": ".py",
   "mimetype": "text/x-python",
   "name": "python",
   "nbconvert_exporter": "python",
   "pygments_lexer": "ipython2",
   "version": "2.7.6"
  }
 },
 "nbformat": 4,
 "nbformat_minor": 0
}