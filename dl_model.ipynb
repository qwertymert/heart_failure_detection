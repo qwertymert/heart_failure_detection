{
 "cells": [
  {
   "cell_type": "code",
   "execution_count": 1,
   "metadata": {
    "collapsed": true
   },
   "outputs": [],
   "source": [
    "import tensorflow as tf\n",
    "import pandas as pd\n",
    "from sklearn.preprocessing import StandardScaler\n",
    "from keras.wrappers.scikit_learn import KerasClassifier\n",
    "from sklearn.model_selection import cross_val_score, train_test_split\n",
    "import numpy as np\n",
    "import matplotlib.pyplot as plt"
   ]
  },
  {
   "cell_type": "code",
   "execution_count": 2,
   "outputs": [],
   "source": [
    "# read and store the dataset as pandas dataframe\n",
    "df = pd.read_csv(\"heart_failure_clinical_records_dataset.csv\")"
   ],
   "metadata": {
    "collapsed": false,
    "pycharm": {
     "name": "#%%\n"
    }
   }
  },
  {
   "cell_type": "code",
   "execution_count": 3,
   "outputs": [],
   "source": [
    "# Data preprocessing\n",
    "\n",
    "# split features and labels of dataset\n",
    "X = df.iloc[:, :-1]\n",
    "y = df.iloc[:, -1]\n",
    "n = len(X.columns)\n",
    "\n",
    "# identify continuous features\n",
    "lst1 = list()\n",
    "for col in X:\n",
    "    if len(X[col].unique()) > 2:\n",
    "        lst1.append(col)\n",
    "\n",
    "# scale continuous features\n",
    "scaler = StandardScaler()\n",
    "X[lst1] = scaler.fit_transform(X[lst1])\n",
    "\n",
    "x_train, x_test, y_train, y_test = train_test_split(X, y, test_size=0.2, random_state=4)"
   ],
   "metadata": {
    "collapsed": false,
    "pycharm": {
     "name": "#%%\n"
    }
   }
  },
  {
   "cell_type": "code",
   "execution_count": 4,
   "outputs": [],
   "source": [
    "# define a function to create a sequential neural network model\n",
    "def get_model():\n",
    "    model = tf.keras.models.Sequential([\n",
    "            tf.keras.layers.Dense(32, input_shape=(n,), activation=tf.nn.relu),\n",
    "            tf.keras.layers.Dropout(0.2),\n",
    "            tf.keras.layers.Dense(16, activation=tf.nn.tanh),\n",
    "            tf.keras.layers.Dropout(0.2),\n",
    "            tf.keras.layers.Dense(1, activation=tf.nn.sigmoid)\n",
    "            ])\n",
    "    # compile model\n",
    "    model.compile(optimizer=\"adam\",\n",
    "                  loss=tf.keras.losses.binary_crossentropy,\n",
    "                  metrics=[\"accuracy\"])\n",
    "    return model"
   ],
   "metadata": {
    "collapsed": false,
    "pycharm": {
     "name": "#%%\n"
    }
   }
  },
  {
   "cell_type": "code",
   "execution_count": 5,
   "outputs": [],
   "source": [
    "# create a learning rate scheduler.\n",
    "\n",
    "def lr_scheduler(epoch):\n",
    "  if epoch < 10:  # after 10 epochs, reduce learning rate\n",
    "    return 0.001\n",
    "  else:\n",
    "    return 0.0001"
   ],
   "metadata": {
    "collapsed": false,
    "pycharm": {
     "name": "#%%\n"
    }
   }
  },
  {
   "cell_type": "code",
   "execution_count": 6,
   "outputs": [
    {
     "name": "stdout",
     "output_type": "stream",
     "text": [
      "Epoch 1/100\n",
      "48/48 [==============================] - 0s 3ms/step - loss: 0.6572 - accuracy: 0.6276 - val_loss: 0.5838 - val_accuracy: 0.7167 - lr: 0.0010\b\b\b\b\b\b\b\b\b\b\b\b\b\b\b\b\b\b\b\b\b\b\b\b\b\n",
      "Epoch 2/100\n",
      "48/48 [==============================] - 0s 665us/step - loss: 0.5887 - accuracy: 0.7155 - val_loss: 0.5313 - val_accuracy: 0.7667 - lr: 0.0010\b\b\b\b\b\b\b\b\b\b\b\b\b\b\b\b\b\b\b\b\b\n",
      "Epoch 3/100\n",
      "48/48 [==============================] - 0s 997us/step - loss: 0.5145 - accuracy: 0.7741 - val_loss: 0.4947 - val_accuracy: 0.8000 - lr: 0.0010\b\b\b\b\b\b\b\b\b\b\b\b\b\b\b\b\b\b\b\b\b\n",
      "Epoch 4/100\n",
      "48/48 [==============================] - 0s 1ms/step - loss: 0.4845 - accuracy: 0.7908 - val_loss: 0.4638 - val_accuracy: 0.8167 - lr: 0.0010\b\b\b\b\b\b\b\b\b\b\b\b\b\b\b\b\b\b\b\b\b\b\b\n",
      "Epoch 5/100\n",
      "48/48 [==============================] - 0s 1ms/step - loss: 0.4544 - accuracy: 0.7908 - val_loss: 0.4393 - val_accuracy: 0.8333 - lr: 0.0010\b\b\b\b\b\b\b\b\b\b\b\b\b\b\b\b\b\b\b\b\b\b\b\n",
      "Epoch 6/100\n",
      "48/48 [==============================] - 0s 1ms/step - loss: 0.4593 - accuracy: 0.7824 - val_loss: 0.4237 - val_accuracy: 0.8500 - lr: 0.0010\b\b\b\b\b\b\b\b\b\b\b\b\b\b\b\b\b\b\b\b\b\b\b\n",
      "Epoch 7/100\n",
      "48/48 [==============================] - 0s 1ms/step - loss: 0.4466 - accuracy: 0.7824 - val_loss: 0.4034 - val_accuracy: 0.8333 - lr: 0.0010\b\b\b\b\b\b\b\b\b\b\b\b\b\b\b\b\b\b\b\b\b\b\b\n",
      "Epoch 8/100\n",
      "48/48 [==============================] - 0s 1ms/step - loss: 0.4396 - accuracy: 0.7908 - val_loss: 0.3928 - val_accuracy: 0.8333 - lr: 0.0010\b\b\b\b\b\b\b\b\b\b\b\b\b\b\b\b\b\b\b\b\b\b\b\n",
      "Epoch 9/100\n",
      "48/48 [==============================] - 0s 1ms/step - loss: 0.3954 - accuracy: 0.8159 - val_loss: 0.3858 - val_accuracy: 0.8167 - lr: 0.0010\b\b\b\b\b\b\b\b\b\b\b\b\b\b\b\b\b\b\b\b\b\b\b\n",
      "Epoch 10/100\n",
      "48/48 [==============================] - 0s 1ms/step - loss: 0.4134 - accuracy: 0.8159 - val_loss: 0.3787 - val_accuracy: 0.8167 - lr: 0.0010\b\b\b\b\b\b\b\b\b\b\b\b\b\b\b\b\b\b\b\b\b\b\b\n",
      "Epoch 11/100\n",
      "48/48 [==============================] - 0s 1ms/step - loss: 0.3778 - accuracy: 0.8326 - val_loss: 0.3778 - val_accuracy: 0.8167 - lr: 1.0000e-04\b\b\b\b\b\b\b\b\b\b\b\b\b\b\b\b\b\b\b\n",
      "Epoch 12/100\n",
      "48/48 [==============================] - 0s 1ms/step - loss: 0.4208 - accuracy: 0.8117 - val_loss: 0.3772 - val_accuracy: 0.8167 - lr: 1.0000e-04\b\b\b\b\b\b\b\b\b\b\b\b\b\b\b\b\b\b\b\n",
      "Epoch 13/100\n",
      "48/48 [==============================] - 0s 1ms/step - loss: 0.3961 - accuracy: 0.8117 - val_loss: 0.3765 - val_accuracy: 0.8167 - lr: 1.0000e-04\b\b\b\b\b\b\b\b\b\b\b\b\b\b\b\b\b\b\b\n",
      "Epoch 14/100\n",
      "48/48 [==============================] - 0s 1ms/step - loss: 0.4013 - accuracy: 0.8201 - val_loss: 0.3755 - val_accuracy: 0.8167 - lr: 1.0000e-04\b\b\b\b\b\b\b\b\b\b\b\b\b\b\b\b\b\b\b\n",
      "Epoch 15/100\n",
      "48/48 [==============================] - 0s 990us/step - loss: 0.4016 - accuracy: 0.7992 - val_loss: 0.3749 - val_accuracy: 0.8333 - lr: 1.0000e-04\b\b\b\b\b\b\b\b\b\b\b\b\b\b\b\b\b\n",
      "Epoch 16/100\n",
      "48/48 [==============================] - 0s 992us/step - loss: 0.3889 - accuracy: 0.8243 - val_loss: 0.3743 - val_accuracy: 0.8167 - lr: 1.0000e-04\b\b\b\b\b\b\b\b\b\b\b\b\b\b\b\b\b\n",
      "Epoch 17/100\n",
      "48/48 [==============================] - 0s 973us/step - loss: 0.4090 - accuracy: 0.8117 - val_loss: 0.3737 - val_accuracy: 0.8333 - lr: 1.0000e-04\b\b\b\b\b\b\b\b\b\b\b\b\b\b\b\b\b\n",
      "Epoch 18/100\n",
      "48/48 [==============================] - 0s 990us/step - loss: 0.3905 - accuracy: 0.8159 - val_loss: 0.3730 - val_accuracy: 0.8167 - lr: 1.0000e-04\b\b\b\b\b\b\b\b\b\b\b\b\b\b\b\b\b\n",
      "Epoch 19/100\n",
      "48/48 [==============================] - 0s 995us/step - loss: 0.3960 - accuracy: 0.8117 - val_loss: 0.3722 - val_accuracy: 0.8333 - lr: 1.0000e-04\b\b\b\b\b\b\b\b\b\b\b\b\b\b\b\b\b\n",
      "Epoch 20/100\n",
      "48/48 [==============================] - 0s 991us/step - loss: 0.3925 - accuracy: 0.8201 - val_loss: 0.3719 - val_accuracy: 0.8167 - lr: 1.0000e-04\b\b\b\b\b\b\b\b\b\b\b\b\b\b\b\b\b\n",
      "Epoch 21/100\n",
      "48/48 [==============================] - 0s 1ms/step - loss: 0.3793 - accuracy: 0.8285 - val_loss: 0.3714 - val_accuracy: 0.8167 - lr: 1.0000e-04\b\b\b\b\b\b\b\b\b\b\b\b\b\b\b\b\b\b\b\n",
      "Epoch 22/100\n",
      "48/48 [==============================] - 0s 992us/step - loss: 0.3747 - accuracy: 0.8368 - val_loss: 0.3712 - val_accuracy: 0.8167 - lr: 1.0000e-04\b\b\b\b\b\b\b\b\b\b\b\b\b\b\b\b\b\n",
      "Epoch 23/100\n",
      "48/48 [==============================] - 0s 993us/step - loss: 0.3729 - accuracy: 0.8326 - val_loss: 0.3709 - val_accuracy: 0.8167 - lr: 1.0000e-04\b\b\b\b\b\b\b\b\b\b\b\b\b\b\b\b\b\n",
      "Epoch 24/100\n",
      "48/48 [==============================] - 0s 901us/step - loss: 0.3867 - accuracy: 0.8243 - val_loss: 0.3705 - val_accuracy: 0.8167 - lr: 1.0000e-04\b\b\b\b\b\b\b\b\b\b\b\b\b\b\b\b\b\n",
      "Epoch 25/100\n",
      "48/48 [==============================] - 0s 863us/step - loss: 0.3785 - accuracy: 0.8243 - val_loss: 0.3699 - val_accuracy: 0.8167 - lr: 1.0000e-04\b\b\b\b\b\b\b\b\b\b\b\b\b\b\b\b\b\n",
      "Epoch 26/100\n",
      "48/48 [==============================] - 0s 997us/step - loss: 0.3915 - accuracy: 0.8452 - val_loss: 0.3695 - val_accuracy: 0.8167 - lr: 1.0000e-04\b\b\b\b\b\b\b\b\b\b\b\b\b\b\b\b\b\n",
      "Epoch 27/100\n",
      "48/48 [==============================] - 0s 997us/step - loss: 0.3963 - accuracy: 0.8201 - val_loss: 0.3692 - val_accuracy: 0.8167 - lr: 1.0000e-04\b\b\b\b\b\b\b\b\b\b\b\b\b\b\b\b\b\n",
      "Epoch 28/100\n",
      "48/48 [==============================] - 0s 664us/step - loss: 0.3923 - accuracy: 0.8075 - val_loss: 0.3682 - val_accuracy: 0.8167 - lr: 1.0000e-04\b\b\b\b\b\b\b\b\b\b\b\b\b\b\b\b\b\n",
      "Epoch 29/100\n",
      "48/48 [==============================] - 0s 665us/step - loss: 0.3721 - accuracy: 0.7992 - val_loss: 0.3677 - val_accuracy: 0.8167 - lr: 1.0000e-04\b\b\b\b\b\b\b\b\b\b\b\b\b\b\b\b\b\n",
      "Epoch 30/100\n",
      "48/48 [==============================] - 0s 845us/step - loss: 0.3633 - accuracy: 0.8452 - val_loss: 0.3673 - val_accuracy: 0.8167 - lr: 1.0000e-04\b\b\b\b\b\b\b\b\b\b\b\b\b\b\b\b\b\n",
      "Epoch 31/100\n",
      "48/48 [==============================] - 0s 997us/step - loss: 0.3841 - accuracy: 0.8159 - val_loss: 0.3663 - val_accuracy: 0.8167 - lr: 1.0000e-04\b\b\b\b\b\b\b\b\b\b\b\b\b\b\b\b\b\n",
      "Epoch 32/100\n",
      "48/48 [==============================] - 0s 998us/step - loss: 0.3861 - accuracy: 0.8201 - val_loss: 0.3656 - val_accuracy: 0.8333 - lr: 1.0000e-04\b\b\b\b\b\b\b\b\b\b\b\b\b\b\b\b\b\n",
      "Epoch 33/100\n",
      "48/48 [==============================] - 0s 996us/step - loss: 0.3986 - accuracy: 0.7950 - val_loss: 0.3650 - val_accuracy: 0.8333 - lr: 1.0000e-04\b\b\b\b\b\b\b\b\b\b\b\b\b\b\b\b\b\n",
      "Epoch 34/100\n",
      "48/48 [==============================] - 0s 997us/step - loss: 0.3839 - accuracy: 0.8243 - val_loss: 0.3646 - val_accuracy: 0.8333 - lr: 1.0000e-04\b\b\b\b\b\b\b\b\b\b\b\b\b\b\b\b\b\n",
      "Epoch 35/100\n",
      "48/48 [==============================] - 0s 1ms/step - loss: 0.3920 - accuracy: 0.8201 - val_loss: 0.3646 - val_accuracy: 0.8333 - lr: 1.0000e-04\b\b\b\b\b\b\b\b\b\b\b\b\b\b\b\b\b\b\b\n",
      "Epoch 36/100\n",
      "48/48 [==============================] - 0s 665us/step - loss: 0.3915 - accuracy: 0.8159 - val_loss: 0.3649 - val_accuracy: 0.8333 - lr: 1.0000e-04\b\b\b\b\b\b\b\b\b\b\b\b\b\b\b\b\b\n",
      "Epoch 37/100\n",
      "48/48 [==============================] - 0s 665us/step - loss: 0.3671 - accuracy: 0.8285 - val_loss: 0.3643 - val_accuracy: 0.8333 - lr: 1.0000e-04\b\b\b\b\b\b\b\b\b\b\b\b\b\b\b\b\b\n",
      "Epoch 38/100\n",
      "48/48 [==============================] - 0s 665us/step - loss: 0.3711 - accuracy: 0.8243 - val_loss: 0.3639 - val_accuracy: 0.8333 - lr: 1.0000e-04\b\b\b\b\b\b\b\b\b\b\b\b\b\b\b\b\b\n",
      "Epoch 39/100\n",
      "48/48 [==============================] - 0s 664us/step - loss: 0.3745 - accuracy: 0.8159 - val_loss: 0.3636 - val_accuracy: 0.8333 - lr: 1.0000e-04\b\b\b\b\b\b\b\b\b\b\b\b\b\b\b\b\b\n",
      "Epoch 40/100\n",
      "48/48 [==============================] - 0s 910us/step - loss: 0.3776 - accuracy: 0.8368 - val_loss: 0.3632 - val_accuracy: 0.8333 - lr: 1.0000e-04\b\b\b\b\b\b\b\b\b\b\b\b\b\b\b\b\b\n",
      "Epoch 41/100\n",
      "48/48 [==============================] - 0s 998us/step - loss: 0.3623 - accuracy: 0.8494 - val_loss: 0.3630 - val_accuracy: 0.8333 - lr: 1.0000e-04\b\b\b\b\b\b\b\b\b\b\b\b\b\b\b\b\b\n",
      "Epoch 42/100\n",
      "48/48 [==============================] - 0s 997us/step - loss: 0.3918 - accuracy: 0.8326 - val_loss: 0.3623 - val_accuracy: 0.8333 - lr: 1.0000e-04\b\b\b\b\b\b\b\b\b\b\b\b\b\b\b\b\b\n",
      "Epoch 43/100\n",
      "48/48 [==============================] - 0s 997us/step - loss: 0.3511 - accuracy: 0.8536 - val_loss: 0.3618 - val_accuracy: 0.8333 - lr: 1.0000e-04\b\b\b\b\b\b\b\b\b\b\b\b\b\b\b\b\b\n",
      "Epoch 44/100\n",
      "48/48 [==============================] - 0s 997us/step - loss: 0.3843 - accuracy: 0.8159 - val_loss: 0.3616 - val_accuracy: 0.8333 - lr: 1.0000e-04\b\b\b\b\b\b\b\b\b\b\b\b\b\b\b\b\b\n",
      "Epoch 45/100\n",
      "48/48 [==============================] - 0s 738us/step - loss: 0.3738 - accuracy: 0.8326 - val_loss: 0.3615 - val_accuracy: 0.8333 - lr: 1.0000e-04\b\b\b\b\b\b\b\b\b\b\b\b\b\b\b\b\b\n",
      "Epoch 46/100\n",
      "48/48 [==============================] - 0s 737us/step - loss: 0.3824 - accuracy: 0.8159 - val_loss: 0.3614 - val_accuracy: 0.8333 - lr: 1.0000e-04\b\b\b\b\b\b\b\b\b\b\b\b\b\b\b\b\b\n",
      "Epoch 47/100\n",
      "48/48 [==============================] - 0s 997us/step - loss: 0.3523 - accuracy: 0.8619 - val_loss: 0.3609 - val_accuracy: 0.8333 - lr: 1.0000e-04\b\b\b\b\b\b\b\b\b\b\b\b\b\b\b\b\b\n",
      "Epoch 48/100\n",
      "48/48 [==============================] - 0s 997us/step - loss: 0.3832 - accuracy: 0.8243 - val_loss: 0.3608 - val_accuracy: 0.8333 - lr: 1.0000e-04\b\b\b\b\b\b\b\b\b\b\b\b\b\b\b\b\b\n",
      "Epoch 49/100\n",
      "48/48 [==============================] - 0s 997us/step - loss: 0.3715 - accuracy: 0.8326 - val_loss: 0.3603 - val_accuracy: 0.8333 - lr: 1.0000e-04\b\b\b\b\b\b\b\b\b\b\b\b\b\b\b\b\b\n",
      "Epoch 50/100\n",
      "48/48 [==============================] - 0s 1ms/step - loss: 0.3641 - accuracy: 0.8285 - val_loss: 0.3600 - val_accuracy: 0.8333 - lr: 1.0000e-04\b\b\b\b\b\b\b\b\b\b\b\b\b\b\b\b\b\b\b\n",
      "Epoch 51/100\n",
      "48/48 [==============================] - 0s 665us/step - loss: 0.3527 - accuracy: 0.8536 - val_loss: 0.3597 - val_accuracy: 0.8333 - lr: 1.0000e-04\b\b\b\b\b\b\b\b\b\b\b\b\b\b\b\b\b\n",
      "Epoch 52/100\n",
      "48/48 [==============================] - 0s 664us/step - loss: 0.3613 - accuracy: 0.8410 - val_loss: 0.3597 - val_accuracy: 0.8333 - lr: 1.0000e-04\b\b\b\b\b\b\b\b\b\b\b\b\b\b\b\b\b\n",
      "Epoch 53/100\n",
      "48/48 [==============================] - 0s 664us/step - loss: 0.3605 - accuracy: 0.8494 - val_loss: 0.3595 - val_accuracy: 0.8333 - lr: 1.0000e-04\b\b\b\b\b\b\b\b\b\b\b\b\b\b\b\b\b\n",
      "Epoch 54/100\n",
      "48/48 [==============================] - 0s 664us/step - loss: 0.3730 - accuracy: 0.8201 - val_loss: 0.3597 - val_accuracy: 0.8333 - lr: 1.0000e-04\b\b\b\b\b\b\b\b\b\b\b\b\b\b\b\b\b\n",
      "Epoch 55/100\n",
      "48/48 [==============================] - 0s 886us/step - loss: 0.3752 - accuracy: 0.8368 - val_loss: 0.3597 - val_accuracy: 0.8333 - lr: 1.0000e-04\b\b\b\b\b\b\b\b\b\b\b\b\b\b\b\b\b\n",
      "Epoch 56/100\n",
      "48/48 [==============================] - 0s 997us/step - loss: 0.3770 - accuracy: 0.8494 - val_loss: 0.3596 - val_accuracy: 0.8333 - lr: 1.0000e-04\b\b\b\b\b\b\b\b\b\b\b\b\b\b\b\b\b\n",
      "Epoch 57/100\n",
      "48/48 [==============================] - 0s 997us/step - loss: 0.3723 - accuracy: 0.8159 - val_loss: 0.3592 - val_accuracy: 0.8333 - lr: 1.0000e-04\b\b\b\b\b\b\b\b\b\b\b\b\b\b\b\b\b\n",
      "Epoch 58/100\n",
      "48/48 [==============================] - 0s 998us/step - loss: 0.3509 - accuracy: 0.8159 - val_loss: 0.3593 - val_accuracy: 0.8333 - lr: 1.0000e-04\b\b\b\b\b\b\b\b\b\b\b\b\b\b\b\b\b\n",
      "Epoch 59/100\n",
      "48/48 [==============================] - 0s 997us/step - loss: 0.3609 - accuracy: 0.8410 - val_loss: 0.3590 - val_accuracy: 0.8333 - lr: 1.0000e-04\b\b\b\b\b\b\b\b\b\b\b\b\b\b\b\b\b\n",
      "Epoch 60/100\n",
      "48/48 [==============================] - 0s 1ms/step - loss: 0.3693 - accuracy: 0.8159 - val_loss: 0.3590 - val_accuracy: 0.8333 - lr: 1.0000e-04\b\b\b\b\b\b\b\b\b\b\b\b\b\b\b\b\b\b\b\n",
      "Epoch 61/100\n",
      "48/48 [==============================] - 0s 899us/step - loss: 0.3786 - accuracy: 0.8117 - val_loss: 0.3593 - val_accuracy: 0.8333 - lr: 1.0000e-04\b\b\b\b\b\b\b\b\b\b\b\b\b\b\b\b\b\n",
      "Epoch 62/100\n",
      "48/48 [==============================] - 0s 997us/step - loss: 0.3558 - accuracy: 0.8368 - val_loss: 0.3591 - val_accuracy: 0.8333 - lr: 1.0000e-04\b\b\b\b\b\b\b\b\b\b\b\b\b\b\b\b\b\n",
      "Epoch 63/100\n",
      "48/48 [==============================] - 0s 664us/step - loss: 0.3749 - accuracy: 0.8326 - val_loss: 0.3590 - val_accuracy: 0.8333 - lr: 1.0000e-04\b\b\b\b\b\b\b\b\b\b\b\b\b\b\b\b\b\n",
      "Epoch 64/100\n",
      "48/48 [==============================] - 0s 664us/step - loss: 0.3863 - accuracy: 0.8075 - val_loss: 0.3589 - val_accuracy: 0.8333 - lr: 1.0000e-04\b\b\b\b\b\b\b\b\b\b\b\b\b\b\b\b\b\n",
      "Epoch 65/100\n",
      "48/48 [==============================] - 0s 977us/step - loss: 0.3553 - accuracy: 0.8243 - val_loss: 0.3588 - val_accuracy: 0.8333 - lr: 1.0000e-04\b\b\b\b\b\b\b\b\b\b\b\b\b\b\b\b\b\n",
      "Epoch 66/100\n",
      "48/48 [==============================] - 0s 651us/step - loss: 0.3607 - accuracy: 0.8159 - val_loss: 0.3590 - val_accuracy: 0.8333 - lr: 1.0000e-04\b\b\b\b\b\b\b\b\b\b\b\b\b\b\b\b\b\n",
      "Epoch 67/100\n",
      "48/48 [==============================] - 0s 665us/step - loss: 0.3765 - accuracy: 0.8243 - val_loss: 0.3586 - val_accuracy: 0.8333 - lr: 1.0000e-04\b\b\b\b\b\b\b\b\b\b\b\b\b\b\b\b\b\n",
      "Epoch 68/100\n",
      "48/48 [==============================] - 0s 664us/step - loss: 0.3590 - accuracy: 0.8159 - val_loss: 0.3586 - val_accuracy: 0.8333 - lr: 1.0000e-04\b\b\b\b\b\b\b\b\b\b\b\b\b\b\b\b\b\n",
      "Epoch 69/100\n",
      "48/48 [==============================] - 0s 665us/step - loss: 0.3390 - accuracy: 0.8494 - val_loss: 0.3585 - val_accuracy: 0.8333 - lr: 1.0000e-04\b\b\b\b\b\b\b\b\b\b\b\b\b\b\b\b\b\n",
      "Epoch 70/100\n",
      "48/48 [==============================] - 0s 992us/step - loss: 0.3555 - accuracy: 0.8368 - val_loss: 0.3582 - val_accuracy: 0.8333 - lr: 1.0000e-04\b\b\b\b\b\b\b\b\b\b\b\b\b\b\b\b\b\n",
      "Epoch 71/100\n",
      "48/48 [==============================] - 0s 708us/step - loss: 0.3358 - accuracy: 0.8619 - val_loss: 0.3582 - val_accuracy: 0.8333 - lr: 1.0000e-04\b\b\b\b\b\b\b\b\b\b\b\b\b\b\b\b\b\n",
      "Epoch 72/100\n",
      "48/48 [==============================] - 0s 997us/step - loss: 0.3615 - accuracy: 0.8452 - val_loss: 0.3581 - val_accuracy: 0.8333 - lr: 1.0000e-04\b\b\b\b\b\b\b\b\b\b\b\b\b\b\b\b\b\n",
      "Epoch 73/100\n",
      "48/48 [==============================] - 0s 997us/step - loss: 0.3616 - accuracy: 0.8410 - val_loss: 0.3583 - val_accuracy: 0.8333 - lr: 1.0000e-04\b\b\b\b\b\b\b\b\b\b\b\b\b\b\b\b\b\n",
      "Epoch 74/100\n",
      "48/48 [==============================] - 0s 997us/step - loss: 0.3531 - accuracy: 0.8201 - val_loss: 0.3580 - val_accuracy: 0.8333 - lr: 1.0000e-04\b\b\b\b\b\b\b\b\b\b\b\b\b\b\b\b\b\n",
      "Epoch 75/100\n",
      "48/48 [==============================] - 0s 1ms/step - loss: 0.3679 - accuracy: 0.8452 - val_loss: 0.3577 - val_accuracy: 0.8333 - lr: 1.0000e-04\b\b\b\b\b\b\b\b\b\b\b\b\b\b\b\b\b\b\b\n",
      "Epoch 76/100\n",
      "48/48 [==============================] - 0s 814us/step - loss: 0.3615 - accuracy: 0.8368 - val_loss: 0.3579 - val_accuracy: 0.8333 - lr: 1.0000e-04\b\b\b\b\b\b\b\b\b\b\b\b\b\b\b\b\b\n",
      "Epoch 77/100\n",
      "48/48 [==============================] - 0s 998us/step - loss: 0.3602 - accuracy: 0.8033 - val_loss: 0.3581 - val_accuracy: 0.8333 - lr: 1.0000e-04\b\b\b\b\b\b\b\b\b\b\b\b\b\b\b\b\b\n",
      "Epoch 78/100\n",
      "48/48 [==============================] - 0s 997us/step - loss: 0.3690 - accuracy: 0.8368 - val_loss: 0.3580 - val_accuracy: 0.8333 - lr: 1.0000e-04\b\b\b\b\b\b\b\b\b\b\b\b\b\b\b\b\b\n",
      "Epoch 79/100\n",
      "48/48 [==============================] - 0s 998us/step - loss: 0.3356 - accuracy: 0.8494 - val_loss: 0.3579 - val_accuracy: 0.8333 - lr: 1.0000e-04\b\b\b\b\b\b\b\b\b\b\b\b\b\b\b\b\b\n",
      "Epoch 80/100\n",
      "48/48 [==============================] - 0s 1ms/step - loss: 0.3506 - accuracy: 0.8410 - val_loss: 0.3579 - val_accuracy: 0.8333 - lr: 1.0000e-04\b\b\b\b\b\b\b\b\b\b\b\b\b\b\b\b\b\b\b\n",
      "Epoch 81/100\n",
      "48/48 [==============================] - 0s 587us/step - loss: 0.3484 - accuracy: 0.8410 - val_loss: 0.3578 - val_accuracy: 0.8333 - lr: 1.0000e-04\b\b\b\b\b\b\b\b\b\b\b\b\b\b\b\b\b\n",
      "Epoch 82/100\n",
      "48/48 [==============================] - 0s 997us/step - loss: 0.3329 - accuracy: 0.8536 - val_loss: 0.3576 - val_accuracy: 0.8333 - lr: 1.0000e-04\b\b\b\b\b\b\b\b\b\b\b\b\b\b\b\b\b\n",
      "Epoch 83/100\n",
      "48/48 [==============================] - 0s 997us/step - loss: 0.3478 - accuracy: 0.8452 - val_loss: 0.3572 - val_accuracy: 0.8333 - lr: 1.0000e-04\b\b\b\b\b\b\b\b\b\b\b\b\b\b\b\b\b\n",
      "Epoch 84/100\n",
      "48/48 [==============================] - 0s 998us/step - loss: 0.3294 - accuracy: 0.8452 - val_loss: 0.3573 - val_accuracy: 0.8333 - lr: 1.0000e-04\b\b\b\b\b\b\b\b\b\b\b\b\b\b\b\b\b\n",
      "Epoch 85/100\n",
      "48/48 [==============================] - 0s 1ms/step - loss: 0.3221 - accuracy: 0.8703 - val_loss: 0.3570 - val_accuracy: 0.8333 - lr: 1.0000e-04\b\b\b\b\b\b\b\b\b\b\b\b\b\b\b\b\b\b\b\n",
      "Epoch 86/100\n",
      "48/48 [==============================] - 0s 998us/step - loss: 0.3477 - accuracy: 0.8452 - val_loss: 0.3568 - val_accuracy: 0.8333 - lr: 1.0000e-04\b\b\b\b\b\b\b\b\b\b\b\b\b\b\b\b\b\n",
      "Epoch 87/100\n",
      "48/48 [==============================] - 0s 997us/step - loss: 0.3286 - accuracy: 0.8787 - val_loss: 0.3569 - val_accuracy: 0.8333 - lr: 1.0000e-04\b\b\b\b\b\b\b\b\b\b\b\b\b\b\b\b\b\n",
      "Epoch 88/100\n",
      "48/48 [==============================] - 0s 997us/step - loss: 0.3462 - accuracy: 0.8410 - val_loss: 0.3569 - val_accuracy: 0.8333 - lr: 1.0000e-04\b\b\b\b\b\b\b\b\b\b\b\b\b\b\b\b\b\n",
      "Epoch 89/100\n",
      "48/48 [==============================] - ETA: 0s - loss: 0.1896 - accuracy: 1.0000\b\b\b\b\b\b\b\b\b\b\b\b\b\b\b\b\b\b\b\b\b\b\b\b\b\b\b\b\b\b\b\b\b\b\b\b\b\b\b\b\b\b\b\b\b\b\b\b\b\b\b\b\b\b\b\b\b\b\b\b\b\b\b\b\b\b\b\b\b\b\b\b\b\b\b\b\b\b\b\b\b\b - 0s 664us/step - loss: 0.3482 - accuracy: 0.8452 - val_loss: 0.3569 - val_accuracy: 0.8333 - lr: 1.0000e-04\n",
      "Epoch 90/100\n",
      "48/48 [==============================] - 0s 978us/step - loss: 0.3548 - accuracy: 0.8410 - val_loss: 0.3569 - val_accuracy: 0.8333 - lr: 1.0000e-04\b\b\b\b\b\b\b\b\b\b\b\b\b\b\b\b\b\n",
      "Epoch 91/100\n",
      "48/48 [==============================] - 0s 619us/step - loss: 0.3473 - accuracy: 0.8494 - val_loss: 0.3569 - val_accuracy: 0.8333 - lr: 1.0000e-04\b\b\b\b\b\b\b\b\b\b\b\b\b\b\b\b\b\n",
      "Epoch 92/100\n",
      "48/48 [==============================] - 0s 665us/step - loss: 0.3556 - accuracy: 0.8201 - val_loss: 0.3568 - val_accuracy: 0.8333 - lr: 1.0000e-04\b\b\b\b\b\b\b\b\b\b\b\b\b\b\b\b\b\n",
      "Epoch 93/100\n",
      "48/48 [==============================] - 0s 664us/step - loss: 0.3445 - accuracy: 0.8494 - val_loss: 0.3568 - val_accuracy: 0.8333 - lr: 1.0000e-04\b\b\b\b\b\b\b\b\b\b\b\b\b\b\b\b\b\n",
      "Epoch 94/100\n",
      "48/48 [==============================] - 0s 1ms/step - loss: 0.3493 - accuracy: 0.8661 - val_loss: 0.3568 - val_accuracy: 0.8333 - lr: 1.0000e-04\b\b\b\b\b\b\b\b\b\b\b\b\b\b\b\b\b\b\b\n",
      "Epoch 95/100\n",
      "48/48 [==============================] - 0s 1ms/step - loss: 0.3386 - accuracy: 0.8368 - val_loss: 0.3568 - val_accuracy: 0.8333 - lr: 1.0000e-04\b\b\b\b\b\b\b\b\b\b\b\b\b\b\b\b\b\b\b\n",
      "Epoch 96/100\n",
      "48/48 [==============================] - 0s 1ms/step - loss: 0.3449 - accuracy: 0.8410 - val_loss: 0.3567 - val_accuracy: 0.8167 - lr: 1.0000e-04\b\b\b\b\b\b\b\b\b\b\b\b\b\b\b\b\b\b\b\n",
      "Epoch 97/100\n",
      "48/48 [==============================] - 0s 1ms/step - loss: 0.3663 - accuracy: 0.8243 - val_loss: 0.3568 - val_accuracy: 0.8167 - lr: 1.0000e-04\b\b\b\b\b\b\b\b\b\b\b\b\b\b\b\b\b\b\b\n",
      "Epoch 98/100\n",
      "48/48 [==============================] - 0s 1ms/step - loss: 0.3260 - accuracy: 0.8536 - val_loss: 0.3570 - val_accuracy: 0.8167 - lr: 1.0000e-04\b\b\b\b\b\b\b\b\b\b\b\b\b\b\b\b\b\b\b\n",
      "Epoch 99/100\n",
      "48/48 [==============================] - 0s 990us/step - loss: 0.3290 - accuracy: 0.8494 - val_loss: 0.3568 - val_accuracy: 0.8333 - lr: 1.0000e-04\b\b\b\b\b\b\b\b\b\b\b\b\b\b\b\b\b\n",
      "Epoch 100/100\n",
      "48/48 [==============================] - 0s 934us/step - loss: 0.3601 - accuracy: 0.8368 - val_loss: 0.3566 - val_accuracy: 0.8167 - lr: 1.0000e-04\b\b\b\b\b\b\b\b\b\b\b\b\b\b\b\b\b\n"
     ]
    }
   ],
   "source": [
    "# create deep learning model and fit dataset\n",
    "nn1 = get_model()\n",
    "callback = tf.keras.callbacks.LearningRateScheduler(lr_scheduler)\n",
    "history = nn1.fit(x_train, y_train,\n",
    "                  validation_data=(x_test, y_test),\n",
    "                  batch_size=5, epochs=100,\n",
    "                  callbacks=[callback])"
   ],
   "metadata": {
    "collapsed": false,
    "pycharm": {
     "name": "#%%\n"
    }
   }
  },
  {
   "cell_type": "code",
   "execution_count": 7,
   "outputs": [
    {
     "data": {
      "text/plain": "<Figure size 432x288 with 1 Axes>",
      "image/png": "[encoded data removed]"
     },
     "metadata": {
      "needs_background": "light"
     },
     "output_type": "display_data"
    },
    {
     "data": {
      "text/plain": "<Figure size 432x288 with 1 Axes>",
      "image/png": "[encoded data removed]"
     },
     "metadata": {
      "needs_background": "light"
     },
     "output_type": "display_data"
    }
   ],
   "source": [
    "# plot training and validation loss over iterations\n",
    "plt.plot(history.history[\"loss\"], label=\"Training Loss\")\n",
    "plt.plot(history.history[\"val_loss\"], label=\"Test Loss\")\n",
    "plt.xlabel(\"# of iterations\")\n",
    "plt.ylabel(\"Loss\")\n",
    "plt.legend()\n",
    "plt.show()\n",
    "\n",
    "# plot training and validation accuracy over iterations\n",
    "plt.plot(history.history[\"accuracy\"], label=\"Training Accuracy\")\n",
    "plt.plot(history.history[\"val_accuracy\"], label=\"Validation Accuracy\")\n",
    "plt.xlabel(\"# of iterations\")\n",
    "plt.ylabel(\"Accuracy\")\n",
    "plt.legend()\n",
    "plt.show()"
   ],
   "metadata": {
    "collapsed": false,
    "pycharm": {
     "name": "#%%\n"
    }
   }
  },
  {
   "cell_type": "code",
   "execution_count": 8,
   "outputs": [
    {
     "name": "stderr",
     "output_type": "stream",
     "text": [
      "C:\\Users\\mguls\\PycharmProjects\\YZV\\venv\\lib\\site-packages\\ipykernel_launcher.py:13: DeprecationWarning: KerasClassifier is deprecated, use Sci-Keras (https://github.com/adriangb/scikeras) instead.\n",
      "  del sys.path[0]\n"
     ]
    },
    {
     "name": "stdout",
     "output_type": "stream",
     "text": [
      "Cross validation scores: [0.71666664 0.76666665 0.86666667 0.86666667 0.779661  ]\n",
      "Best accuracy : 0.8666666746139526\n",
      "Average accuracy: 0.7992655277252197\n"
     ]
    }
   ],
   "source": [
    "# cross validation part\n",
    "\n",
    "# shuffle dataset for randomization\n",
    "df = df.sample(frac=1, random_state=42).reset_index(drop=True)\n",
    "\n",
    "# preprocess dataset\n",
    "X = df.iloc[:, :-1]\n",
    "y = df.iloc[:, -1]\n",
    "scaler = StandardScaler()\n",
    "X[lst1] = scaler.fit_transform(X[lst1])\n",
    "\n",
    "# perform cross validation\n",
    "kr = KerasClassifier(build_fn=get_model)\n",
    "scores = cross_val_score(kr, X, y, cv=5, n_jobs=-1, fit_params=dict(epochs=100, batch_size=5))\n",
    "print(\"Cross validation scores:\", scores)\n",
    "print(f\"Best accuracy : {max(scores)}\")\n",
    "print(f\"Average accuracy: {np.mean(scores)}\")\n"
   ],
   "metadata": {
    "collapsed": false,
    "pycharm": {
     "name": "#%%\n"
    }
   }
  },
  {
   "cell_type": "code",
   "execution_count": 8,
   "outputs": [],
   "source": [],
   "metadata": {
    "collapsed": false,
    "pycharm": {
     "name": "#%%\n"
    }
   }
  }
 ],
 "metadata": {
  "kernelspec": {
   "display_name": "Python 3",
   "language": "python",
   "name": "python3"
  },
  "language_info": {
   "codemirror_mode": {
    "name": "ipython",
    "version": 2
   },
   "file_extension": ".py",
   "mimetype": "text/x-python",
   "name": "python",
   "nbconvert_exporter": "python",
   "pygments_lexer": "ipython2",
   "version": "2.7.6"
  }
 },
 "nbformat": 4,
 "nbformat_minor": 0
}