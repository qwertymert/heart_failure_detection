{
 "cells": [
  {
   "cell_type": "code",
   "execution_count": 1,
   "metadata": {
    "collapsed": true,
    "pycharm": {
     "name": "#%%\n"
    }
   },
   "outputs": [],
   "source": [
    "from sklearn.preprocessing import StandardScaler\n",
    "from sklearn.model_selection import train_test_split, cross_val_score, GridSearchCV\n",
    "from sklearn.ensemble import RandomForestClassifier\n",
    "from sklearn import metrics\n",
    "import numpy as np\n",
    "import pandas as pd"
   ]
  },
  {
   "cell_type": "code",
   "execution_count": 2,
   "outputs": [],
   "source": [
    "\n",
    "# read dataset from csv file\n",
    "df = pd.read_csv(\"heart_failure_clinical_records_dataset.csv\")\n",
    "\n",
    "# shuffle dataset for preventing bias\n",
    "df = df.sample(frac=1, random_state=42).reset_index(drop=True)"
   ],
   "metadata": {
    "collapsed": false,
    "pycharm": {
     "name": "#%%\n"
    }
   }
  },
  {
   "cell_type": "code",
   "execution_count": 3,
   "outputs": [],
   "source": [
    "# separate features and labels of dataset\n",
    "X = df.iloc[:, :-1]\n",
    "y = df.iloc[:, -1]\n",
    "\n",
    "# identify features with continuous values.\n",
    "lst1 = list()\n",
    "for col in X:\n",
    "    if len(X[col].unique()) > 2:\n",
    "        lst1.append(col)\n",
    "\n",
    "# scale continuous features with standard scaler\n",
    "scaler = StandardScaler()\n",
    "X[lst1] = scaler.fit_transform(X[lst1])"
   ],
   "metadata": {
    "collapsed": false,
    "pycharm": {
     "name": "#%%\n"
    }
   }
  },
  {
   "cell_type": "code",
   "execution_count": 4,
   "outputs": [],
   "source": [
    "# split dataset for training and testing randomly\n",
    "X_train, X_test, y_train, y_test = train_test_split(X, y, random_state=1)"
   ],
   "metadata": {
    "collapsed": false,
    "pycharm": {
     "name": "#%%\n"
    }
   }
  },
  {
   "cell_type": "code",
   "execution_count": 5,
   "outputs": [
    {
     "name": "stdout",
     "output_type": "stream",
     "text": [
      "              precision    recall  f1-score   support\n",
      "\n",
      "           0       0.83      0.94      0.88        51\n",
      "           1       0.82      0.58      0.68        24\n",
      "\n",
      "    accuracy                           0.83        75\n",
      "   macro avg       0.83      0.76      0.78        75\n",
      "weighted avg       0.83      0.83      0.82        75\n",
      "\n",
      "[[48  3]\n",
      " [10 14]]\n"
     ]
    }
   ],
   "source": [
    "# create random forest classifier with entropy criterion\n",
    "tree = RandomForestClassifier(criterion=\"gini\")\n",
    "\n",
    "# fit train data to model (training)\n",
    "model = tree.fit(X_train, y_train)\n",
    "\n",
    "# make predictions with test data\n",
    "y_pred = model.predict(X_test)\n",
    "\n",
    "# calculate results and scores with test data\n",
    "print(metrics.classification_report(y_test, y_pred))\n",
    "print(metrics.confusion_matrix(y_test, y_pred))"
   ],
   "metadata": {
    "collapsed": false,
    "pycharm": {
     "name": "#%%\n"
    }
   }
  },
  {
   "cell_type": "code",
   "execution_count": 6,
   "outputs": [
    {
     "name": "stdout",
     "output_type": "stream",
     "text": [
      "Cross validation 1 score: 0.7666666666666667\n",
      "Cross validation 2 score: 0.8333333333333334\n",
      "Cross validation 3 score: 0.85\n",
      "Cross validation 4 score: 0.8833333333333333\n",
      "Cross validation 5 score: 0.847457627118644\n",
      "Average score: 0.8361581920903955\n"
     ]
    }
   ],
   "source": [
    "# perform cross validation on dataset with 5-fold cross validation\n",
    "scores = cross_val_score(tree, X, y, cv=5)\n",
    "\n",
    "# print cv scores\n",
    "for s in range(len(scores)):\n",
    "    print(f\"Cross validation {s+1} score: {scores[s]}\")\n",
    "\n",
    "print(\"Average score:\", np.mean(scores))"
   ],
   "metadata": {
    "collapsed": false,
    "pycharm": {
     "name": "#%%\n"
    }
   }
  },
  {
   "cell_type": "code",
   "execution_count": 9,
   "outputs": [
    {
     "name": "stdout",
     "output_type": "stream",
     "text": [
      "Best score of grid search: 0.8630508474576271\n",
      "Best parameters in grid search:\n",
      "criterion : gini\n",
      "max_depth : 10\n",
      "min_samples_split : 5\n",
      "n_estimators : 100\n"
     ]
    }
   ],
   "source": [
    "# perform grid search on random forest classifier to find parameters with highest scores\n",
    "clf = GridSearchCV(tree, {\n",
    "    \"n_estimators\": [10, 50, 100, 200],\n",
    "    \"criterion\": [\"gini\", \"entropy\"],\n",
    "    \"max_depth\": [None, 1, 3, 5, 10, 20],\n",
    "    \"min_samples_split\": [2, 3, 5]}, cv=5)\n",
    "clf.fit(X, y)\n",
    "\n",
    "# print best results\n",
    "print(\"Best score of grid search:\", clf.best_score_)\n",
    "print(\"Best parameters in grid search:\")\n",
    "for u, v in clf.best_params_.items():\n",
    "    print(u, \":\", v)"
   ],
   "metadata": {
    "collapsed": false,
    "pycharm": {
     "name": "#%%\n"
    }
   }
  },
  {
   "cell_type": "code",
   "execution_count": 7,
   "outputs": [],
   "source": [],
   "metadata": {
    "collapsed": false,
    "pycharm": {
     "name": "#%%\n"
    }
   }
  }
 ],
 "metadata": {
  "kernelspec": {
   "display_name": "Python 3",
   "language": "python",
   "name": "python3"
  },
  "language_info": {
   "codemirror_mode": {
    "name": "ipython",
    "version": 2
   },
   "file_extension": ".py",
   "mimetype": "text/x-python",
   "name": "python",
   "nbconvert_exporter": "python",
   "pygments_lexer": "ipython2",
   "version": "2.7.6"
  }
 },
 "nbformat": 4,
 "nbformat_minor": 0
}